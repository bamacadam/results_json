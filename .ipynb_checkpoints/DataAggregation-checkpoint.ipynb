{
 "metadata": {
  "name": "",
  "signature": "sha256:dff15e318322a0b4742abd9efe8f68c10fb528fb40581f00a0e6584025c4ed58"
 },
 "nbformat": 3,
 "nbformat_minor": 0,
 "worksheets": [
  {
   "cells": [
    {
     "cell_type": "heading",
     "level": 1,
     "metadata": {},
     "source": [
      "Load Data"
     ]
    },
    {
     "cell_type": "code",
     "collapsed": false,
     "input": [
      "import json\n",
      "\n",
      "path = \"math_results_\"\n",
      "name = lambda x: path + (str (x)) + \".json\" \n",
      "files = [json.load(open(name(x))) for x in range(0,64)]\n",
      "rawData = [datum for f in files for datum in f if datum]"
     ],
     "language": "python",
     "metadata": {},
     "outputs": [],
     "prompt_number": 161
    },
    {
     "cell_type": "heading",
     "level": 1,
     "metadata": {},
     "source": [
      "Load Data into Vectors"
     ]
    },
    {
     "cell_type": "markdown",
     "metadata": {},
     "source": [
      "The first step will be to define a lookup table which associates the the u,v,s,t variables into two-dimensional vectors\n"
     ]
    },
    {
     "cell_type": "code",
     "collapsed": false,
     "input": [
      "lookup = {\n",
      "    0:(1,-1), 1:(1,1), 2:(1,0), 3:(0,1), 4:(0,0)\n",
      "}\n",
      "\n",
      "def parUpdate(par):\n",
      "    string = bin(par)[2:]\n",
      "    out = [int(i) for i in string]\n",
      "    while len(out) < 7:\n",
      "        out.append(0)\n",
      "    return out\n",
      "\n",
      "def updateDatum(datum):\n",
      "    newDatum = {}\n",
      "    for a in ['u', 'v', 's', 't']:\n",
      "        newDatum[a] = [lookup[i] for i in datum[a]]\n",
      "    #newDatum['parities'] = tuple((parUpdate(x[0]), parUpdate(x[1])) for x in datum['parities'])\n",
      "    newDatum['parities'] = [(parUpdate(a), parUpdate(b)) for (a,b) in datum['parities']]\n",
      "    return newDatum\n",
      "\n",
      "data = tuple(updateDatum(datum) for datum in rawData)"
     ],
     "language": "python",
     "metadata": {},
     "outputs": [],
     "prompt_number": 162
    },
    {
     "cell_type": "markdown",
     "metadata": {},
     "source": [
      "The next set of functions \n",
      "<ol>\n",
      "  <li>Applies a parity to a set of 7 dim-2 vectors</li>\n",
      "  <li>Combines the u,v,s,t vectors into our dim-4 x,y vectors</li>\n",
      "  <li>Constructs the tensor product of the x,y vectors</li>\n",
      "  <li>Finds the solution of the XY matrix</li> \n",
      "  <li>Groups solutions into their families (number of nonzeros in each entry)</li>\n",
      "</ol>"
     ]
    },
    {
     "cell_type": "code",
     "collapsed": false,
     "input": [
      "#vectors: u,v,s,t\n",
      "#parities: two 7 dimensional arrays\n",
      "#returns u',v',s',t'; that is the vectors with the parity applied\n",
      "def applyParities(vectors, parities):\n",
      "    neg = lambda x: tuple(-x[0], -x[1])\n",
      "    newVectors = vectors.copy()\n",
      "    for i in range(0,7):\n",
      "        if parities[0][i]:\n",
      "            newVectors['v'][i] = neg(vectors['v'][i])\n",
      "        if parities[1][i]:\n",
      "            newVectors['t'][i] = neg(vectors['t'][i])\n",
      "    return newVectors"
     ],
     "language": "python",
     "metadata": {},
     "outputs": [],
     "prompt_number": 163
    },
    {
     "cell_type": "code",
     "collapsed": false,
     "input": [
      "#input: u,v,s,t vectors\n",
      "#output: x,y vectors as entries in a dict\n",
      "def getXYVectors(vectors):\n",
      "    app = lambda a,b: (a[0], a[1], b[0], b[1])\n",
      "    x = tuple(app(a,b) for (a,b) in list(zip(vectors['u'],vectors['v'])))\n",
      "    y = tuple(app(a,b) for (a,b) in list(zip(vectors['s'],vectors['t'])))\n",
      "    return {'x':x, 'y':y}"
     ],
     "language": "python",
     "metadata": {},
     "outputs": [],
     "prompt_number": 164
    },
    {
     "cell_type": "code",
     "collapsed": false,
     "input": [
      "#input: 2 dim-n tuples of numbers\n",
      "#output: a dim-2n tuple of numbers\n",
      "def tensor(x,y):\n",
      "    return tuple(i*j for j in y for i in x)\n",
      "def getTensors(XYs):\n",
      "    return tuple(tensor(a,b) for (a,b) in zip(XYs['x'], XYs['y']))"
     ],
     "language": "python",
     "metadata": {},
     "outputs": [],
     "prompt_number": 165
    },
    {
     "cell_type": "code",
     "collapsed": false,
     "input": [
      "def getFamily(XY):\n",
      "    nonZero = lambda x: sum(i!=0 for i in x)\n",
      "    raw = [nonZero(i) for i in XY]\n",
      "    raw.sort()\n",
      "    return tuple(raw)"
     ],
     "language": "python",
     "metadata": {},
     "outputs": [],
     "prompt_number": 168
    },
    {
     "cell_type": "heading",
     "level": 1,
     "metadata": {},
     "source": [
      "Aggregate Results"
     ]
    },
    {
     "cell_type": "markdown",
     "metadata": {},
     "source": [
      "The next block aggregates the data sets into the set of families, by applying the functions from the previous section"
     ]
    },
    {
     "cell_type": "code",
     "collapsed": false,
     "input": [
      "#get the xy vectors\n",
      "comp = lambda x: getFamily(getTensors(getXYVectors(x)))\n",
      "families = [comp(i) for i in data]"
     ],
     "language": "python",
     "metadata": {},
     "outputs": [],
     "prompt_number": 169
    },
    {
     "cell_type": "code",
     "collapsed": false,
     "input": [
      "uniqueFamilies = set(families)\n",
      "uniqueFamilies"
     ],
     "language": "python",
     "metadata": {},
     "outputs": [
      {
       "metadata": {},
       "output_type": "pyout",
       "prompt_number": 170,
       "text": [
        "{(1, 1, 2, 2, 8, 8, 9),\n",
        " (1, 1, 4, 4, 4, 4, 9),\n",
        " (2, 2, 2, 2, 4, 4, 4),\n",
        " (2, 2, 2, 2, 4, 4, 6)}"
       ]
      }
     ],
     "prompt_number": 170
    },
    {
     "cell_type": "code",
     "collapsed": false,
     "input": [],
     "language": "python",
     "metadata": {},
     "outputs": [
      {
       "metadata": {},
       "output_type": "pyout",
       "prompt_number": 172,
       "text": [
        "52"
       ]
      }
     ],
     "prompt_number": 172
    },
    {
     "cell_type": "code",
     "collapsed": false,
     "input": [],
     "language": "python",
     "metadata": {},
     "outputs": []
    }
   ],
   "metadata": {}
  }
 ]
}